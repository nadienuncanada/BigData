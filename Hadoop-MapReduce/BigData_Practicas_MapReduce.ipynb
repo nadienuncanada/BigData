{
  "cells": [
    {
      "cell_type": "markdown",
      "metadata": {
        "id": "view-in-github",
        "colab_type": "text"
      },
      "source": [
        "<a href=\"https://colab.research.google.com/github/nadienuncanada/BigData/blob/main/BigData_Practicas_MapReduce.ipynb\" target=\"_parent\"><img src=\"https://colab.research.google.com/assets/colab-badge.svg\" alt=\"Open In Colab\"/></a>"
      ]
    },
    {
      "cell_type": "markdown",
      "source": [
        "\n",
        "# BigData 2024 - MapReduce"
      ],
      "metadata": {
        "id": "SkWCS4qlwcqr"
      }
    },
    {
      "cell_type": "markdown",
      "source": [
        "## Inicializacion"
      ],
      "metadata": {
        "id": "UV9yP_CmG8Rl"
      }
    },
    {
      "cell_type": "code",
      "source": [
        "from google.colab import drive\n",
        "drive.mount('/content/drive')\n",
        "ruta = '/content/drive/MyDrive/BigData/MapReduce'\n",
        "ruta_MRE = ruta + '/MRE.py'\n",
        "GENERALinputPath= ruta + '/input'\n",
        "outputPath = './output'\n",
        "\n",
        "import os\n",
        "\n",
        "# Definir el nombre de la carpeta\n",
        "\n",
        "def crearcarpeta(carpeta):\n",
        "  # Crear la carpeta si no existe\n",
        "  if not os.path.exists(carpeta):\n",
        "      os.makedirs(carpeta)\n",
        "      print(f'Carpeta \"{carpeta}\" creada con éxito.')\n",
        "  else:\n",
        "      print(f'La carpeta \"{carpeta}\" ya existe.')\n",
        "\n",
        "import sys\n",
        "sys.path.append(ruta)\n",
        "\n",
        "from MRE import Job"
      ],
      "metadata": {
        "id": "-FZodmOqxGeJ"
      },
      "execution_count": null,
      "outputs": []
    },
    {
      "cell_type": "markdown",
      "source": [
        "## Practica 2"
      ],
      "metadata": {
        "id": "bFsWW84twpnq"
      }
    },
    {
      "cell_type": "markdown",
      "source": [
        "### EJ3\n",
        "\n",
        "Implemente un job MapReduce para calcular el máximo, mínimo, promedio y desvío\n",
        "stándard de las ocurrencias de todas las palabras del dataset Libros.\n"
      ],
      "metadata": {
        "id": "uTvpdT9z0264"
      }
    },
    {
      "cell_type": "code",
      "source": [
        "#Job 1: Cuenta reps por palabra\n",
        "\n",
        "inputPath = GENERALinputPath + '/Libros'\n",
        "crearcarpeta(\"output\")\n",
        "\n",
        "def fmap(key, value, context):\n",
        "  words = value.split()\n",
        "  for w in words:\n",
        "   context.write(w,1)\n",
        "\n",
        "def freduce(key,values,context):\n",
        "  cont = 0\n",
        "  for v in values:\n",
        "    cont+=v\n",
        "  context.write(key,cont)\n",
        "\n",
        "job = Job(inputPath, outputPath, fmap, freduce)\n",
        "job.setCombiner(freduce) # CONSULTAR: POR QUE CAMBIA EL RESULTADO? NO DEBERIA\n",
        "job.waitForCompletion()"
      ],
      "metadata": {
        "id": "BhSwF4SgWx3s"
      },
      "execution_count": null,
      "outputs": []
    },
    {
      "cell_type": "code",
      "source": [
        "# Job2: calcula el max, min y promedio\n",
        "inputPath = outputPath\n",
        "crearcarpeta(\"output2\")\n",
        "outputPath2 = './output2'\n",
        "def fmap (key,value,context):\n",
        "  context.write(1,value)\n",
        "\n",
        "def freduce (key,values,context):\n",
        "  max = -1\n",
        "  min = 999\n",
        "  sum = 0\n",
        "  cont = 0\n",
        "  for v in values:\n",
        "    v=int(v)\n",
        "    sum+=v\n",
        "    cont+=1\n",
        "    if(v>max):\n",
        "      max = v\n",
        "    if(v<min):\n",
        "      min = v\n",
        "  promedio=sum/cont\n",
        "  context.write(key,[max, min, promedio])\n",
        "\n",
        "job = Job(inputPath, outputPath2, fmap, freduce)\n",
        "job.waitForCompletion()\n"
      ],
      "metadata": {
        "id": "3vFAy6kI5dUG"
      },
      "execution_count": null,
      "outputs": []
    },
    {
      "cell_type": "code",
      "source": [
        "#Job 3: Calculo de desv estandar\n",
        "\n",
        "crearcarpeta(\"output3\")\n",
        "outputPath3 = './output3'\n",
        "\n",
        "with open('output2/output.txt', 'r', encoding='utf-8') as f:\n",
        "  for linea in f:\n",
        "    elems = linea.strip().split()\n",
        "    promedio = float(elems[3])\n",
        "\n",
        "inputPath = outputPath\n",
        "\n",
        "def fmap(key, value, context):\n",
        "  context.write(1,value)\n",
        "\n",
        "def freduce(key,values,context):\n",
        "  sum = 0\n",
        "  cant_elems=0\n",
        "  for v in values:\n",
        "    cant_elems+=1\n",
        "    v = float(v)\n",
        "    sum+= (v-context[\"promedio\"])**2\n",
        "\n",
        "  desv = (sum/cant_elems)**0.5\n",
        "  context.write(key,desv)\n",
        "\n",
        "job = Job(inputPath, outputPath3, fmap, freduce)\n",
        "\n",
        "params = {\"promedio\": promedio}\n",
        "job.setParams(params)\n",
        "\n",
        "job.waitForCompletion()"
      ],
      "metadata": {
        "id": "6Pvmzyh06hUS"
      },
      "execution_count": null,
      "outputs": []
    },
    {
      "cell_type": "markdown",
      "source": [
        "### EJ4\n",
        "Utilice el dataset Libros para implementar una aplicación MapReduce que devuelva\n",
        "como salida todos los párrafos que tienen una longitud mayor al promedio."
      ],
      "metadata": {
        "id": "xKpO9HafHDXw"
      }
    },
    {
      "cell_type": "code",
      "source": [
        "#Job 1: Cuenta len por oracion\n",
        "\n",
        "inputPath = GENERALinputPath + '/Libros'\n",
        "crearcarpeta(\"output\")\n",
        "\n",
        "def fmap(key, value, context):\n",
        "   context.write(value, value)\n",
        "\n",
        "def freduce(key,values,context):\n",
        "  for v in values:\n",
        "    cont = 0\n",
        "    words = v.split()\n",
        "    for w in words:\n",
        "      cont+=1\n",
        "    context.write(cont,key)\n",
        "\n",
        "job = Job(inputPath, outputPath, fmap, freduce)\n",
        "#job.setCombiner(freduce) # CONSULTAR: POR QUE CAMBIA EL RESULTADO? NO DEBERIA\n",
        "job.waitForCompletion()"
      ],
      "metadata": {
        "colab": {
          "base_uri": "https://localhost:8080/"
        },
        "outputId": "4a4e847a-d7a7-428d-93fc-51fe2bfe74cb",
        "collapsed": true,
        "id": "-59z6s76HDXx"
      },
      "execution_count": null,
      "outputs": [
        {
          "output_type": "stream",
          "name": "stdout",
          "text": [
            "La carpeta \"output\" ya existe.\n"
          ]
        },
        {
          "output_type": "execute_result",
          "data": {
            "text/plain": [
              "True"
            ]
          },
          "metadata": {},
          "execution_count": 10
        }
      ]
    },
    {
      "cell_type": "code",
      "source": [
        "# Job2: calcula el promedio\n",
        "inputPath = outputPath\n",
        "crearcarpeta(\"output2\")\n",
        "outputPath2 = './output2'\n",
        "def fmap (key,value,context):\n",
        "  context.write(1,key)\n",
        "\n",
        "def freduce (key,values,context):\n",
        "  sum = 0\n",
        "  cont = 0\n",
        "  for v in values:\n",
        "    v=int(v)\n",
        "    sum+=v\n",
        "    cont+=1\n",
        "  promedio=sum/cont\n",
        "  context.write(key, promedio)\n",
        "\n",
        "job = Job(inputPath, outputPath2, fmap, freduce)\n",
        "job.waitForCompletion()\n"
      ],
      "metadata": {
        "collapsed": true,
        "colab": {
          "base_uri": "https://localhost:8080/"
        },
        "id": "W3heLK_ZI4EF",
        "outputId": "8bdeecfd-91dc-48be-deb0-df301ff421a3"
      },
      "execution_count": null,
      "outputs": [
        {
          "output_type": "stream",
          "name": "stdout",
          "text": [
            "La carpeta \"output2\" ya existe.\n"
          ]
        },
        {
          "output_type": "execute_result",
          "data": {
            "text/plain": [
              "True"
            ]
          },
          "metadata": {},
          "execution_count": 12
        }
      ]
    },
    {
      "cell_type": "code",
      "source": [
        "#Job 3: Quedarme con mayores al prom\n",
        "\n",
        "crearcarpeta(\"output3\")\n",
        "outputPath3 = './output3'\n",
        "\n",
        "with open('output2/output.txt', 'r', encoding='utf-8') as f:\n",
        "  for linea in f:\n",
        "    elems = linea.strip().split()\n",
        "    promedio = float(elems[1])\n",
        "\n",
        "inputPath = outputPath\n",
        "\n",
        "def fmap(key, value, context):\n",
        "  if (float(key) > context[\"promedio\"]):\n",
        "    context.write(value, key)\n",
        "\n",
        "\n",
        "def freduce(key,values,context):\n",
        "  for v in values:\n",
        "    context.write(v,key)\n",
        "\n",
        "job = Job(inputPath, outputPath3, fmap, freduce)\n",
        "\n",
        "params = {\"promedio\": promedio}\n",
        "job.setParams(params)\n",
        "\n",
        "job.waitForCompletion()"
      ],
      "metadata": {
        "collapsed": true,
        "colab": {
          "base_uri": "https://localhost:8080/"
        },
        "id": "lU8PSDgoI4I-",
        "outputId": "58a03b8c-dbff-45ce-ea30-391a003d30fd"
      },
      "execution_count": null,
      "outputs": [
        {
          "output_type": "stream",
          "name": "stdout",
          "text": [
            "La carpeta \"output3\" ya existe.\n"
          ]
        },
        {
          "output_type": "execute_result",
          "data": {
            "text/plain": [
              "True"
            ]
          },
          "metadata": {},
          "execution_count": 16
        }
      ]
    },
    {
      "cell_type": "markdown",
      "source": [
        "## Practica 3"
      ],
      "metadata": {
        "id": "_iueOQ5SQy--"
      }
    },
    {
      "cell_type": "markdown",
      "source": [
        "### EJ4\n",
        "Implemente una solución MapReduce que permita calcular la mediana de una serie de\n",
        "valores. Use como prueba el dataset website para calcular la mediana del tiempo de\n",
        "permanencia."
      ],
      "metadata": {
        "id": "Rn_B-2_iQy_H"
      }
    },
    {
      "cell_type": "code",
      "source": [
        "#Job 1: Cuenta la cant de elementos\n",
        "\n",
        "inputPath = GENERALinputPath + '/website'\n",
        "crearcarpeta(\"output\")\n",
        "\n",
        "def fmap(key, value, context):\n",
        "  context.write(1, value[1])\n",
        "\n",
        "def freduce(key,values,context):\n",
        "  cont = 0\n",
        "  for v in values:\n",
        "    cont+=1\n",
        "  context.write(key,cont)\n",
        "\n",
        "job = Job(inputPath, outputPath, fmap, freduce)\n",
        "#job.setCombiner(freduce) # CONSULTAR: POR QUE CAMBIA EL RESULTADO? NO DEBERIA\n",
        "job.waitForCompletion()"
      ],
      "metadata": {
        "colab": {
          "base_uri": "https://localhost:8080/"
        },
        "outputId": "9bd7d9cd-b8e5-4ddf-8385-a7d2dcecd783",
        "collapsed": true,
        "id": "JPx0uyJ7Qy_H"
      },
      "execution_count": null,
      "outputs": [
        {
          "output_type": "stream",
          "name": "stdout",
          "text": [
            "La carpeta \"output\" ya existe.\n"
          ]
        },
        {
          "output_type": "execute_result",
          "data": {
            "text/plain": [
              "True"
            ]
          },
          "metadata": {},
          "execution_count": 3
        }
      ]
    },
    {
      "cell_type": "code",
      "source": [
        "#Job 2: Obtiene la media\n",
        "\n",
        "crearcarpeta(\"output2\")\n",
        "outputPath2 = './output2'\n",
        "\n",
        "with open('output/output.txt', 'r', encoding='utf-8') as f:\n",
        "  for linea in f:\n",
        "    elems = linea.strip().split()\n",
        "    posicion_de_la_media = int(float(elems[1]) / 2)\n",
        "print(posicion_de_la_media)\n",
        "\n",
        "inputPath = GENERALinputPath + '/website'\n",
        "\n",
        "def fmap(key, value, context):\n",
        "  elems = value.split()\n",
        "  context.write(elems[1], elems[1])\n",
        "\n",
        "def freduce(key,values,context):\n",
        "  cont = 0\n",
        "  for v in values:\n",
        "    cont+=1\n",
        "    context.write(v, \"\")\n",
        "    if(cont == context[\"posicion_de_la_media\"]):\n",
        "      media = v\n",
        "  context.write(media,1111111111111111)\n",
        "\n",
        "def fShuffleCmp(aKey, anotherKey):\n",
        "  return 0\n",
        "\n",
        "def fSortCmp(aKey, anotherKey):\n",
        " if(int(aKey) == int(anotherKey)):\n",
        "  return 0\n",
        " elif(int(aKey) < int(anotherKey)):\n",
        "  return -1\n",
        " else:\n",
        "  return 1\n",
        "\n",
        "job = Job(inputPath, outputPath2, fmap, freduce)\n",
        "\n",
        "job.setSortCmp(fSortCmp)\n",
        "job.setShuffleCmp(fShuffleCmp)\n",
        "\n",
        "params = {\"posicion_de_la_media\": posicion_de_la_media}\n",
        "job.setParams(params)\n",
        "\n",
        "job.waitForCompletion()"
      ],
      "metadata": {
        "collapsed": true,
        "colab": {
          "base_uri": "https://localhost:8080/"
        },
        "outputId": "13dce67f-35da-4792-aa6d-9b003590925b",
        "id": "zA_OGDinQy_I"
      },
      "execution_count": null,
      "outputs": [
        {
          "output_type": "stream",
          "name": "stdout",
          "text": [
            "La carpeta \"output2\" ya existe.\n",
            "2949\n"
          ]
        },
        {
          "output_type": "execute_result",
          "data": {
            "text/plain": [
              "True"
            ]
          },
          "metadata": {},
          "execution_count": 19
        }
      ]
    },
    {
      "cell_type": "markdown",
      "source": [
        "### EJ7\n",
        "Implemente una solución MapReduce para resolver las siguientes consultas SQL\n",
        "describiendo el DAG correspondiente."
      ],
      "metadata": {
        "id": "5Fp1UtixdghI"
      }
    },
    {
      "cell_type": "markdown",
      "source": [
        "#### EJ7)A)\n",
        "A)\n",
        "![image.png](data:image/png;base64,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)\n"
      ],
      "metadata": {
        "id": "vgNGHCKddnRd"
      }
    },
    {
      "cell_type": "code",
      "source": [
        "#Job 1: InnerJoin entre CA y P\n",
        "\n",
        "inputPath = GENERALinputPath + '/Banco'\n",
        "inputPathCA = inputPath + '/CajasDeAhorro'\n",
        "inputPathP = inputPath + '/Prestamos'\n",
        "\n",
        "crearcarpeta(\"output\")\n",
        "\n",
        "def fmapCA(key, value, context):\n",
        "  context.write(key, (\"CA\", value))\n",
        "\n",
        "def fmapP(key, value, context):\n",
        "  context.write(key, (\"P\", value))\n",
        "\n",
        "def freduce(key,values,context):\n",
        "  cont = 0\n",
        "  p = None\n",
        "  for v in values:\n",
        "    if (v[0] == \"CA\"):\n",
        "      ca = v[1].split()\n",
        "    else:\n",
        "      p = v[1]\n",
        "  if (p != None):\n",
        "    context.write(ca[0], \" \") #+ \" \" + p)\n",
        "\n",
        "\n",
        "\n",
        "job = Job(inputPathCA, outputPath, fmapCA, freduce)\n",
        "job.addInputPath(inputPathP, fmapP)\n",
        "#job.setCombiner(freduce) # CONSULTAR: POR QUE CAMBIA EL RESULTADO? NO DEBERIA\n",
        "job.waitForCompletion()"
      ],
      "metadata": {
        "colab": {
          "base_uri": "https://localhost:8080/"
        },
        "outputId": "0d5f9d99-7e65-4d82-9076-12e8f46d0c15",
        "collapsed": true,
        "id": "NZdDCQ36dghQ"
      },
      "execution_count": null,
      "outputs": [
        {
          "output_type": "stream",
          "name": "stdout",
          "text": [
            "La carpeta \"output\" ya existe.\n"
          ]
        },
        {
          "output_type": "execute_result",
          "data": {
            "text/plain": [
              "True"
            ]
          },
          "metadata": {},
          "execution_count": 8
        }
      ]
    },
    {
      "cell_type": "code",
      "source": [
        "#Job 2: InnerJoin con cliente\n",
        "\n",
        "inputPathCAP = outputPath\n",
        "inputPathC = inputPath + '/Clientes'\n",
        "outputPath2 = './output2'\n",
        "crearcarpeta(\"output2\")\n",
        "\n",
        "def fmapCAP(key, value, context):\n",
        "  context.write((\"CAP\", key), (\"CAP\", key))\n",
        "\n",
        "def fmapC(key, value, context):\n",
        "  context.write((\"C\", key), (\"C\", value))\n",
        "\n",
        "def freduce(key,values,context):\n",
        "  cont = 0\n",
        "  p = None\n",
        "  for v in values:\n",
        "    if (v[0] == \"C\"):\n",
        "      CLI = v[1].split()\n",
        "    else:\n",
        "      context.write(CLI[4], \"\")\n",
        "\n",
        "\n",
        "def fShuffleCmp(aKey, anotherKey):\n",
        " if(aKey[1] == anotherKey[1]):\n",
        "  return 0\n",
        " elif(aKey[1] < anotherKey[1]):\n",
        "  return -1\n",
        " else:\n",
        "  return 1\n",
        "\n",
        "def fSortCmp(aKey, anotherKey):\n",
        " if(aKey[0] == anotherKey[0]):\n",
        "  return 0\n",
        " elif(aKey[0] == \"C\"):\n",
        "  return -1\n",
        " else:\n",
        "  return 1\n",
        "\n",
        "\n",
        "\n",
        "\n",
        "job = Job(inputPathCAP, outputPath2, fmapCAP, freduce)\n",
        "job.addInputPath(inputPathC, fmapC)\n",
        "\n",
        "\n",
        "job.setSortCmp(fSortCmp)\n",
        "job.setShuffleCmp(fShuffleCmp)\n",
        "#job.setCombiner(freduce) # CONSULTAR: POR QUE CAMBIA EL RESULTADO? NO DEBERIA\n",
        "job.waitForCompletion()"
      ],
      "metadata": {
        "colab": {
          "base_uri": "https://localhost:8080/"
        },
        "outputId": "473a4bf6-023e-4106-fc4d-f60dc3f8581c",
        "collapsed": true,
        "id": "Ft7ijf8LeE49"
      },
      "execution_count": null,
      "outputs": [
        {
          "output_type": "stream",
          "name": "stdout",
          "text": [
            "La carpeta \"output2\" ya existe.\n"
          ]
        },
        {
          "output_type": "execute_result",
          "data": {
            "text/plain": [
              "True"
            ]
          },
          "metadata": {},
          "execution_count": 10
        }
      ]
    },
    {
      "cell_type": "code",
      "source": [
        "#Job 3: Cuenta la cant de repeticiones de nacionalidades\n",
        "\n",
        "inputPathNA = outputPath2\n",
        "outputPath3 = './output3'\n",
        "crearcarpeta(\"output3\")\n",
        "\n",
        "def fmapNA(key, value, context):\n",
        "  context.write(key, 1)\n",
        "\n",
        "def freduce(key,values,context):\n",
        "  cont = 0\n",
        "  for v in values:\n",
        "    cont+=1\n",
        "  context.write(key,cont)\n",
        "\n",
        "job = Job(inputPathNA, outputPath3, fmapNA, freduce)\n",
        "#job.setCombiner(freduce) # CONSULTAR: POR QUE CAMBIA EL RESULTADO? NO DEBERIA\n",
        "job.waitForCompletion()"
      ],
      "metadata": {
        "colab": {
          "base_uri": "https://localhost:8080/"
        },
        "outputId": "a2f916e4-1b97-42fe-a4ed-0e9180f8613d",
        "collapsed": true,
        "id": "FjbVPWZ1eE-h"
      },
      "execution_count": null,
      "outputs": [
        {
          "output_type": "stream",
          "name": "stdout",
          "text": [
            "Carpeta \"output3\" creada con éxito.\n"
          ]
        },
        {
          "output_type": "execute_result",
          "data": {
            "text/plain": [
              "True"
            ]
          },
          "metadata": {},
          "execution_count": 11
        }
      ]
    },
    {
      "cell_type": "code",
      "source": [
        "#Job 4: Obtiene la media O COMO NO ES BIG DATA -> script de python\n",
        "\n",
        "# Definir el nombre del archivo\n",
        "archivo = './output3/output.txt'\n",
        "\n",
        "# Inicializar variables para guardar el país con el mayor valor\n",
        "pais_max = \"\"\n",
        "max_valor = float('-inf')\n",
        "\n",
        "# Leer el archivo\n",
        "with open(archivo, 'r', encoding='utf-8') as f:\n",
        "    for linea in f:\n",
        "        # Dividir la línea en país y valor\n",
        "        pais, valor = linea.strip().split('\\t')\n",
        "        valor = int(valor)\n",
        "\n",
        "        # Comprobar si es el valor máximo\n",
        "        if valor > max_valor:\n",
        "            max_valor = valor\n",
        "            pais_max = pais\n",
        "\n",
        "# Imprimir el resultado\n",
        "print(f'El país con el mayor valor es {pais_max} con {max_valor}.')\n"
      ],
      "metadata": {
        "collapsed": true,
        "colab": {
          "base_uri": "https://localhost:8080/"
        },
        "outputId": "68b578f3-4c45-4011-9d3e-6f07baa325ce",
        "id": "QA41tEjpdghR"
      },
      "execution_count": null,
      "outputs": [
        {
          "output_type": "stream",
          "name": "stdout",
          "text": [
            "El país con el mayor valor es ECU con 238.\n"
          ]
        }
      ]
    },
    {
      "cell_type": "markdown",
      "source": [
        "#### EJ7)B)\n",
        "![image.png](data:image/png;base64,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)"
      ],
      "metadata": {
        "id": "kdXyzBkebevD"
      }
    },
    {
      "cell_type": "code",
      "source": [
        "#Job 2: InnerJoin con cliente\n",
        "\n",
        "inputPath = GENERALinputPath + '/Banco'\n",
        "inputPathCA = inputPath + '/CajasDeAhorro'\n",
        "inputPathC = inputPath + '/Clientes'\n",
        "\n",
        "outputPath = './output'\n",
        "crearcarpeta(\"output\")\n",
        "\n",
        "nacionalidad_buscada = \"ITA\"\n",
        "\n",
        "def fmapCA(key, value, context):\n",
        "  datos = value.split()\n",
        "  context.write((\"CA\", datos[0]), (\"CA\", datos[1]))\n",
        "\n",
        "def fmapC(key, value, context):\n",
        "  datos = value.split()\n",
        "  if (datos[4] == context[\"nacionalidad_buscada\"]):\n",
        "    context.write((\"C\", key), (\"C\", datos[3]))\n",
        "\n",
        "def freduce(key,values,context):\n",
        "  fechaDeNacimiento = None\n",
        "  for v in values:\n",
        "    if (v[0] == \"C\"):\n",
        "      fechaDeNacimiento = v[1]\n",
        "    else:\n",
        "      if (fechaDeNacimiento == None):\n",
        "        break\n",
        "      context.write(fechaDeNacimiento, v[1])\n",
        "\n",
        "\n",
        "def fShuffleCmp(aKey, anotherKey):\n",
        " if(aKey[1] == anotherKey[1]):\n",
        "  return 0\n",
        " elif(aKey[1] < anotherKey[1]):\n",
        "  return -1\n",
        " else:\n",
        "  return 1\n",
        "\n",
        "def fSortCmp(aKey, anotherKey):\n",
        " if(aKey[0] == anotherKey[0]):\n",
        "  return 0\n",
        " elif(aKey[0] == \"C\"):\n",
        "  return -1\n",
        " else:\n",
        "  return 1\n",
        "\n",
        "\n",
        "job = Job(inputPathCA, outputPath, fmapCA, freduce)\n",
        "job.addInputPath(inputPathC, fmapC)\n",
        "\n",
        "params = {\"nacionalidad_buscada\": nacionalidad_buscada}\n",
        "job.setParams(params)\n",
        "\n",
        "job.setShuffleCmp(fShuffleCmp)\n",
        "job.setSortCmp(fSortCmp)\n",
        "#job.setCombiner(freduce) # CONSULTAR: POR QUE CAMBIA EL RESULTADO? NO DEBERIA\n",
        "job.waitForCompletion()"
      ],
      "metadata": {
        "id": "P3T5mlQobkcO"
      },
      "execution_count": null,
      "outputs": []
    },
    {
      "cell_type": "code",
      "source": [
        "#Job 2 promedio por decada, apartir de los clientes ya filtrados por nacionalidad \"ITA\"\n",
        "inputPath = outputPath\n",
        "\n",
        "outputPath2 = './output2'\n",
        "crearcarpeta(\"output2\")\n",
        "\n",
        "\n",
        "def fmap(key, value, context):\n",
        "  decada=key.split(\"-\")\n",
        "  decada=int(decada[0])%100\n",
        "  context.write(decada, value)#decada y el salario.\n",
        "\n",
        "def freduce(key, value, context):\n",
        "  sum=0\n",
        "  cont=0\n",
        "  for v in value:\n",
        "    cont+=1\n",
        "    sum+=float(v)\n",
        "  prom=sum/cont\n",
        "  context.write(key,prom)\n",
        "\n",
        "job = Job(inputPath, outputPath2, fmap, freduce)\n",
        "job.waitForCompletion()"
      ],
      "metadata": {
        "id": "DAkoV_OfdkxB",
        "colab": {
          "base_uri": "https://localhost:8080/"
        },
        "outputId": "ed185e15-0ee0-4226-92dc-bdbb49dc5737"
      },
      "execution_count": null,
      "outputs": [
        {
          "output_type": "stream",
          "name": "stdout",
          "text": [
            "La carpeta \"output2\" ya existe.\n"
          ]
        },
        {
          "output_type": "execute_result",
          "data": {
            "text/plain": [
              "True"
            ]
          },
          "metadata": {},
          "execution_count": 17
        }
      ]
    },
    {
      "cell_type": "markdown",
      "source": [
        "#### EJ7) C)\n",
        "\n",
        "![image.png](data:image/png;base64,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)"
      ],
      "metadata": {
        "id": "mVADftfnk1GA"
      }
    },
    {
      "cell_type": "code",
      "source": [
        "#Job 1: InnerJoin entre CA y P\n",
        "\n",
        "inputPath = GENERALinputPath + '/Banco'\n",
        "inputPathCA = inputPath + '/CajasDeAhorro'\n",
        "inputPathP = inputPath + '/Prestamos'\n",
        "\n",
        "crearcarpeta(\"output\")\n",
        "outputPath = \"./output\"\n",
        "\n",
        "def fmapCA(key, value, context):\n",
        "  datos = value.split()\n",
        "  context.write(key, (\"CA\", datos[0], datos[1]))\n",
        "\n",
        "def fmapP(key, value, context):\n",
        "  context.write(key, (\"P\", \"\"))\n",
        "\n",
        "def freduce(key,values,context):\n",
        "  cont = 0\n",
        "  p = None\n",
        "  for v in values:\n",
        "    if (v[0] == \"CA\"):\n",
        "      soy_caja, id_cli, saldo = v\n",
        "    else:\n",
        "      p = v[1]\n",
        "  if (p != None):\n",
        "    context.write(id_cli, saldo)\n",
        "\n",
        "job = Job(inputPathCA, outputPath, fmapCA, freduce)\n",
        "job.addInputPath(inputPathP, fmapP)\n",
        "#job.setCombiner(freduce) # CONSULTAR: POR QUE CAMBIA EL RESULTADO? NO DEBERIA\n",
        "job.waitForCompletion()"
      ],
      "metadata": {
        "id": "wUC6RmWwk6Be"
      },
      "execution_count": null,
      "outputs": []
    },
    {
      "cell_type": "code",
      "source": [
        "#Job 2 - filtrar cliente por anio, reduce solo si esta mas de 2 veces repetido el cliente y que el maximo de alguno de sus saldos sea mayor a 50000\n",
        "inputPathOut = outputPath #de donde vienen los datos del anterior job\n",
        "\n",
        "inputPath = GENERALinputPath + '/Banco'\n",
        "inputPathC = inputPath + '/Clientes'\n",
        "\n",
        "outputPath2 = './output2'\n",
        "crearcarpeta(\"output2\")\n",
        "\n",
        "\n",
        "def fmapC(key, value, context):\n",
        "  datos = value.split()\n",
        "  fecha_de_nacimiento = datos[3].split(\"-\")\n",
        "  if (int(fecha_de_nacimiento[0]) < 2000 ):\n",
        "    context.write((\"C\", key), (\"C\", datos[0], datos[1] , datos[2]))\n",
        "\n",
        "def fmapInput(key, value, context):\n",
        "  context.write((\"CA\", key), (\"CA\", value))\n",
        "# key=id cliente, value = saldo de la ca.\n",
        "\n",
        "def fShuffleCmp(aKey, anotherKey):\n",
        " if(aKey[1] == anotherKey[1]):\n",
        "  return 0\n",
        " elif(aKey[1] < anotherKey[1]):\n",
        "  return -1\n",
        " else:\n",
        "  return 1\n",
        "\n",
        "def fSortCmp(aKey, anotherKey):\n",
        " if(aKey[0] == anotherKey[0]):\n",
        "  return 0\n",
        " elif(aKey[0] == \"C\"):\n",
        "  return -1\n",
        " else:\n",
        "  return 1\n",
        "\n",
        "def freduce(key, value, context):\n",
        "  max=-1\n",
        "  cont=0\n",
        "  nombre = None\n",
        "  for v in value:\n",
        "    if (v[0] == \"C\"):\n",
        "      soyCLiente, nombre, apellido, dni = v\n",
        "    else:\n",
        "      saldo=float(v[1])\n",
        "      cont+=1\n",
        "      if(max < saldo):\n",
        "        max= saldo\n",
        "  if nombre is not None and cont >= 2 and max > 50000:\n",
        "    context.write(dni, nombre + \" \" + apellido + \" \" + str(cont) + \" \" + str(max))\n",
        "\n",
        "job = Job(inputPathC, outputPath2, fmapC, freduce)\n",
        "job.addInputPath(inputPathOut, fmapInput)\n",
        "\n",
        "job.setShuffleCmp(fShuffleCmp)\n",
        "job.setSortCmp(fSortCmp)\n",
        "job.waitForCompletion()"
      ],
      "metadata": {
        "id": "vJ4vmwbbk64s"
      },
      "execution_count": null,
      "outputs": []
    }
  ],
  "metadata": {
    "colab": {
      "provenance": [],
      "collapsed_sections": [
        "xKpO9HafHDXw",
        "Rn_B-2_iQy_H",
        "vgNGHCKddnRd"
      ],
      "include_colab_link": true
    },
    "kernelspec": {
      "display_name": "Python 3",
      "name": "python3"
    },
    "language_info": {
      "codemirror_mode": {
        "name": "ipython",
        "version": 3
      },
      "file_extension": ".py",
      "mimetype": "text/x-python",
      "name": "python",
      "nbconvert_exporter": "python",
      "pygments_lexer": "ipython3",
      "version": "3.9.12"
    }
  },
  "nbformat": 4,
  "nbformat_minor": 0
}