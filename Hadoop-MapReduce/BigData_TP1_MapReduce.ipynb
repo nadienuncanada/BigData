{
  "cells": [
    {
      "cell_type": "markdown",
      "metadata": {
        "id": "view-in-github",
        "colab_type": "text"
      },
      "source": [
        "<a href=\"https://colab.research.google.com/github/nadienuncanada/BigData/blob/main/BigData_TP1.ipynb\" target=\"_parent\"><img src=\"https://colab.research.google.com/assets/colab-badge.svg\" alt=\"Open In Colab\"/></a>"
      ]
    },
    {
      "cell_type": "markdown",
      "source": [
        "\n",
        "# BigData 2024"
      ],
      "metadata": {
        "id": "SkWCS4qlwcqr"
      }
    },
    {
      "cell_type": "markdown",
      "source": [
        "## Inicializacion"
      ],
      "metadata": {
        "id": "UV9yP_CmG8Rl"
      }
    },
    {
      "cell_type": "code",
      "source": [
        "from google.colab import drive\n",
        "drive.mount('/content/drive')\n",
        "ruta = '/content/drive/MyDrive/BigData'\n",
        "ruta_MRE = ruta + '/MRE.py'\n",
        "GENERALinputPath= ruta + '/Tp1/input'\n",
        "outputPath = './output'\n",
        "\n",
        "import os\n",
        "\n",
        "# Definir el nombre de la carpeta\n",
        "\n",
        "def crearcarpeta(carpeta):\n",
        "  # Crear la carpeta si no existe\n",
        "  if not os.path.exists(carpeta):\n",
        "      os.makedirs(carpeta)\n",
        "      print(f'Carpeta \"{carpeta}\" creada con éxito.')\n",
        "  else:\n",
        "      print(f'La carpeta \"{carpeta}\" ya existe.')\n",
        "\n",
        "import sys\n",
        "sys.path.append(ruta)\n",
        "\n",
        "from MRE import Job"
      ],
      "metadata": {
        "id": "-FZodmOqxGeJ",
        "colab": {
          "base_uri": "https://localhost:8080/"
        },
        "outputId": "9b84624d-5ebc-49b0-8681-483e8ec6e1be"
      },
      "execution_count": null,
      "outputs": [
        {
          "output_type": "stream",
          "name": "stdout",
          "text": [
            "Mounted at /content/drive\n"
          ]
        }
      ]
    },
    {
      "cell_type": "markdown",
      "source": [
        "## Trabajo Practico 1\n",
        "\n",
        "\n",
        "\n"
      ],
      "metadata": {
        "id": "_iueOQ5SQy--"
      }
    },
    {
      "cell_type": "markdown",
      "source": [
        "### Datos del enunciado"
      ],
      "metadata": {
        "id": "aM6830eanUzl"
      }
    },
    {
      "cell_type": "markdown",
      "source": [
        "\n",
        "**Pautas generales**\n",
        "\n",
        "• La entrega consiste en la implementación de Jobs MapReduce, resolviendo todas las\n",
        "consignas presentes en este enunciado. Se deberá entregar el código fuente\n",
        "implementado y un documento con el DAG del proceso completo.\n",
        "\n",
        "• Los alumnos pueden conformar grupo de no más de dos integrantes y hacer una única\n",
        "entrega grupal.\n",
        "\n",
        "• La entrega se realiza por la mensajería del curso en IDEAS.\n",
        "\n",
        "• La fecha límite de entrega es el 28 de octubre de 2024.\n",
        "\n",
        "**Aclaración**\n",
        "\n",
        "Suponga que la cantidad de jugadores, de misiones y de héroes es Big Data.\n",
        "En cada job planteado en la solución piense si una función combiner contribuye o no para la\n",
        "optimización del job. En caso de contribuir implemente dicha función\n",
        "\n",
        "**Enunciado**\n",
        "\n",
        "Una empresa ha desarrollado un videojuego online donde millones de jugadores se conectan a\n",
        "diario para realizar diferentes misiones. Cada jugador elije una misión en la cual participar y de\n",
        "su participación obtiene un puntaje y el tiempo en segundo que duró la misión. El jugador para\n",
        "participar de una misión debe elegir cinco héroes de un conjunto de héroes disponibles. Por\n",
        "cada participación, los servidores del juego almacenan la siguiente información:\n",
        "\n",
        "\n",
        "• ID_Jugador\n",
        "\n",
        "• ID_Misión\n",
        "\n",
        "• ID_Héroe_1\n",
        "\n",
        "• ID_Héroe_2\n",
        "\n",
        "• ID_Héroe_3\n",
        "\n",
        "• ID_Héroe_4\n",
        "\n",
        "• ID_Héroe_5\n",
        "\n",
        "• Puntaje obtenido\n",
        "\n",
        "• Tiempo de la misión en segundos\n",
        "\n",
        "Donde los cinco ID de los héroes son IDs de un conjunto de héroes que el jugador tiene para\n",
        "elegir y no guardan relación alguna entre ellos.\n",
        "Todos los jugadores pueden participar en la misión que deseen cuántas veces deseen y por cada\n",
        "misión obtienen un puntaje y también se registra el tiempo que duró la misión. Un jugador\n",
        "puede jugar todas las veces que quiera.\n",
        "Cada vez que un jugador decide jugar una misión, debe elegir cinco héroes, los cuales pueden\n",
        "ser totalmente distintos de una partida a la siguiente, aún jugando en la misma misión.\n",
        "Por ejemplo, el jugador con ID 231 juega a la misión 492 con los héroes 42, 901, 72, 831 y 4.\n",
        "Luego el mismo jugador puede jugar a la misma misión con otros héroes o los mismos, o repetir\n",
        "solo algunos de ellos.\n",
        "\n",
        "Semanalmente los administradores del juego quieren obtener algunas estadísticas para\n",
        "regalarle premios a los mejores jugadores y hacer mejoras al juego según la preferencia de los\n",
        "jugadores. Al finalizar la semana se desea saber:\n"
      ],
      "metadata": {
        "id": "EGI8TnWunMyo"
      }
    },
    {
      "cell_type": "markdown",
      "source": [
        "### EJ1\n",
        "La misión más jugada (independientemente de la cantidad de jugadores que la jugaron,\n",
        "ni cuántas veces la jugó cada uno)."
      ],
      "metadata": {
        "id": "Rn_B-2_iQy_H"
      }
    },
    {
      "cell_type": "code",
      "source": [
        "#Job 1: Cuenta la cant de repeticiones por mision\n",
        "\n",
        "inputPath = GENERALinputPath\n",
        "outputPath = './output'\n",
        "crearcarpeta(\"output\")\n",
        "\n",
        "def fmap(key, value, context):\n",
        "  datos = value.split()\n",
        "  context.write(datos[0], 1)\n",
        "\n",
        "def freduce(key,values,context):\n",
        "  cont = 0\n",
        "  for v in values:\n",
        "    cont+=v\n",
        "  context.write(key,cont)\n",
        "\n",
        "job = Job(inputPath, outputPath, fmap, freduce)\n",
        "job.setCombiner(freduce) #EL COMBINER SI CONTRIBUYE => Contamos antes de trasnferir, por lo que trasferimos menos datos\n",
        "job.waitForCompletion()"
      ],
      "metadata": {
        "colab": {
          "base_uri": "https://localhost:8080/"
        },
        "outputId": "05dc90e7-6a77-4e68-bd9c-44418c905a85",
        "collapsed": true,
        "id": "JPx0uyJ7Qy_H"
      },
      "execution_count": null,
      "outputs": [
        {
          "output_type": "stream",
          "name": "stdout",
          "text": [
            "Carpeta \"output\" creada con éxito.\n"
          ]
        },
        {
          "output_type": "execute_result",
          "data": {
            "text/plain": [
              "True"
            ]
          },
          "metadata": {},
          "execution_count": 2
        }
      ]
    },
    {
      "cell_type": "code",
      "source": [
        "#Job 2: Obtiene el max\n",
        "\n",
        "crearcarpeta(\"output2\")\n",
        "outputPath2 = './output2'\n",
        "\n",
        "inputPath = outputPath\n",
        "\n",
        "def fmap(key, value, context):\n",
        "  context.write(\"\", (key,value))\n",
        "\n",
        "def freduce(key,values,context):\n",
        "  max = 0\n",
        "  mision = None\n",
        "  for v in values:\n",
        "    valor=int(v[1])\n",
        "    if(valor>max):\n",
        "      max=valor\n",
        "      mision=v[0]\n",
        "  context.write(mision,max)\n",
        "\n",
        "job = Job(inputPath, outputPath2, fmap, freduce)\n",
        "job.setCombiner(freduce) #EL COMBINER SI CONTRIBUYE => Obtenemos el maximo parcial antes de trasnferir, por lo que trasferimos menos datos\n",
        "job.waitForCompletion()"
      ],
      "metadata": {
        "collapsed": true,
        "colab": {
          "base_uri": "https://localhost:8080/"
        },
        "outputId": "66b18933-7ee9-400a-a0e5-2277d44eb0b0",
        "id": "zA_OGDinQy_I"
      },
      "execution_count": null,
      "outputs": [
        {
          "output_type": "stream",
          "name": "stdout",
          "text": [
            "La carpeta \"output2\" ya existe.\n"
          ]
        },
        {
          "output_type": "execute_result",
          "data": {
            "text/plain": [
              "True"
            ]
          },
          "metadata": {},
          "execution_count": 5
        }
      ]
    },
    {
      "cell_type": "markdown",
      "source": [
        "### EJ2\n",
        "El héroe más elegido en cada una de las misiones (el primer puesto podría ser\n",
        "compartido por más de un héroe, de hecho, todos los héroes podrían haber participado\n",
        "de la misión la misma cantidad de veces).\n"
      ],
      "metadata": {
        "id": "5Fp1UtixdghI"
      }
    },
    {
      "cell_type": "code",
      "source": [
        "#Job 1: Cuenta la cantidad de repeticiones de la tupla (mision, heroe)\n",
        "\n",
        "inputPath = GENERALinputPath\n",
        "outputPath = './output'\n",
        "crearcarpeta(\"output\")\n",
        "\n",
        "def fmap(key, value, context):\n",
        "  datos = value.split()\n",
        "  for i in range(1,6):\n",
        "    heroe = datos[i]\n",
        "    context.write((datos[0] , datos[i]), 1)\n",
        "\n",
        "def freduce(key,values,context):\n",
        "  cont = 0\n",
        "  for v in values:\n",
        "    cont+=v\n",
        "  context.write(key,cont)\n",
        "\n",
        "job = Job(inputPath, outputPath, fmap, freduce)\n",
        "job.setCombiner(freduce) #EL COMBINER SI CONTRIBUYE => Contamos antes de trasnferir, por lo que trasferimos menos datos\n",
        "job.waitForCompletion()"
      ],
      "metadata": {
        "id": "wUC6RmWwk6Be",
        "colab": {
          "base_uri": "https://localhost:8080/"
        },
        "outputId": "379362a4-cb5a-410b-b4e7-f3f053544e49"
      },
      "execution_count": null,
      "outputs": [
        {
          "output_type": "stream",
          "name": "stdout",
          "text": [
            "La carpeta \"output\" ya existe.\n"
          ]
        },
        {
          "output_type": "execute_result",
          "data": {
            "text/plain": [
              "True"
            ]
          },
          "metadata": {},
          "execution_count": 6
        }
      ]
    },
    {
      "cell_type": "code",
      "source": [
        "#Job 2: Conseguir que heroe/s se jugaron mayor cantidad de veces por cada mision. Tenemos que segurarnos de que el reduce le llegue primero el maximo\n",
        "\n",
        "inputPath = outputPath\n",
        "\n",
        "outputPath2 = './output2'\n",
        "crearcarpeta(\"output2\")\n",
        "\n",
        "\n",
        "def fmap(key, value, context):\n",
        "  datos=value.split()\n",
        "  context.write((key,datos[1]),datos)#id_mision+cantidad-> como key, queremos la cantidad como key para ordernalo en el sort\n",
        "\n",
        "def fShuffle(aKey, anotherKey):#juntamos por mision\n",
        " if(aKey[0] == anotherKey[0]):\n",
        "  return 0\n",
        " elif(aKey[0] < anotherKey[0]):\n",
        "  return -1\n",
        " else:\n",
        "  return 1\n",
        "\n",
        "def fSort(aKey, anotherKey):#ordenamos por cantidad descendente\n",
        " if(int(aKey[1]) == int(anotherKey[1])):\n",
        "  return 0\n",
        " elif(int(aKey[1]) < int(anotherKey[1])):\n",
        "  return 1\n",
        " else:\n",
        "  return -1\n",
        "\n",
        "def freduce(key, value, context):\n",
        "  max=-1\n",
        "  for v in value:\n",
        "    cant=int(v[1])\n",
        "    if(int(max)<=cant):\n",
        "      max = cant\n",
        "    if(max!=cant):\n",
        "      break\n",
        "    context.write(key[0],(v[0],max))# id_m, id_h cantidad.\n",
        "\n",
        "job = Job(inputPath, outputPath2, fmap, freduce)\n",
        "\n",
        "\n",
        "job.setShuffleCmp(fShuffle)\n",
        "job.setSortCmp(fSort)\n",
        "\n",
        "#ACA COMBINER NO CONTRIBUYE YA QUE NECESITAMOS QUE SE ORDENEN PRIMERO\n",
        "\n",
        "job.waitForCompletion()"
      ],
      "metadata": {
        "id": "vJ4vmwbbk64s",
        "colab": {
          "base_uri": "https://localhost:8080/"
        },
        "outputId": "ca60cd07-8ab2-47cc-d089-45090a8b4290"
      },
      "execution_count": null,
      "outputs": [
        {
          "output_type": "stream",
          "name": "stdout",
          "text": [
            "La carpeta \"output2\" ya existe.\n"
          ]
        },
        {
          "output_type": "execute_result",
          "data": {
            "text/plain": [
              "True"
            ]
          },
          "metadata": {},
          "execution_count": 7
        }
      ]
    },
    {
      "cell_type": "markdown",
      "source": [
        "### EJ3\n",
        "Todos los jugadores que usaron más de H héroes distintos (H es un parámetro de la\n",
        "consulta)."
      ],
      "metadata": {
        "id": "gjw6_H0vl1EO"
      }
    },
    {
      "cell_type": "code",
      "source": [
        "#Job 1: Acumulador de par (jugador, heroe)\n",
        "\n",
        "inputPath = GENERALinputPath\n",
        "outputPath = './output'\n",
        "crearcarpeta(\"output\")\n",
        "\n",
        "def fmap(key, value, context):\n",
        "  datos = value.split()\n",
        "\n",
        "  for i in range(1,6):\n",
        "    heroe = datos[i]\n",
        "    context.write((key, datos[i]), \"\")\n",
        "\n",
        "def freduce(key,values,context):\n",
        "  for v in values:\n",
        "    context.write(key,\"\")\n",
        "    break\n",
        "\n",
        "job = Job(inputPath, outputPath, fmap, freduce)\n",
        "job.setCombiner(freduce) #EL COMBINER SI CONTRIBUYE => Solo transfiero un dato en vez de todos\n",
        "job.waitForCompletion()"
      ],
      "metadata": {
        "colab": {
          "base_uri": "https://localhost:8080/"
        },
        "outputId": "9bd7d9cd-b8e5-4ddf-8385-a7d2dcecd783",
        "collapsed": true,
        "id": "5unffdkPl1EO"
      },
      "execution_count": null,
      "outputs": [
        {
          "output_type": "stream",
          "name": "stdout",
          "text": [
            "La carpeta \"output\" ya existe.\n"
          ]
        },
        {
          "output_type": "execute_result",
          "data": {
            "text/plain": [
              "True"
            ]
          },
          "metadata": {},
          "execution_count": 3
        }
      ]
    },
    {
      "cell_type": "code",
      "source": [
        "#Job 2: Contador de repetición de jugador y solo da si cant > H\n",
        "\n",
        "crearcarpeta(\"output2\")\n",
        "outputPath2 = './output2'\n",
        "\n",
        "H = 20\n",
        "\n",
        "inputPath = outputPath\n",
        "\n",
        "def fmap(key, value, context):\n",
        "  context.write(key, 1)\n",
        "\n",
        "def freduce(key,values,context):\n",
        "  cont = 0\n",
        "  for v in values:\n",
        "    cont+=v\n",
        "  if(cont > context[\"H\"]):\n",
        "    context.write(key,cont)\n",
        "\n",
        "def fcombiner(key,values,context):\n",
        "  cont = 0\n",
        "  for v in values:\n",
        "    cont+=v\n",
        "  context.write(key,cont)\n",
        "\n",
        "job = Job(inputPath, outputPath2, fmap, freduce)\n",
        "\n",
        "params = {\"H\": H}\n",
        "job.setParams(params)\n",
        "\n",
        "job.setCombiner(fcombiner) #EL COMBINER SI CONTRIBUYE => Contamos antes de trasnferir, por lo que trasferimos menos datos\n",
        "\n",
        "job.waitForCompletion()"
      ],
      "metadata": {
        "collapsed": true,
        "colab": {
          "base_uri": "https://localhost:8080/"
        },
        "outputId": "13dce67f-35da-4792-aa6d-9b003590925b",
        "id": "zTUJ3u0Ml1EP"
      },
      "execution_count": null,
      "outputs": [
        {
          "output_type": "stream",
          "name": "stdout",
          "text": [
            "La carpeta \"output2\" ya existe.\n",
            "2949\n"
          ]
        },
        {
          "output_type": "execute_result",
          "data": {
            "text/plain": [
              "True"
            ]
          },
          "metadata": {},
          "execution_count": 19
        }
      ]
    },
    {
      "cell_type": "markdown",
      "source": [
        "### EJ4\n",
        "Todos los jugadores que participaron al menos N veces de la misión más jugada y el\n",
        "puntaje total del jugador en esa misión sea mayor a P. La misión más jugada es aquella\n",
        "en la que participaron más jugadores distintos, aunque sea una vez (N y P son\n",
        "parámetros de la consulta). Suponga que la misión más jugada es única (no hay empate\n",
        "en el primer puesto).\n"
      ],
      "metadata": {
        "id": "JtNnX6XzmESu"
      }
    },
    {
      "cell_type": "code",
      "source": [
        "#Job 1: Acumulador de par (jugador, mision)\n",
        "\n",
        "inputPath = GENERALinputPath\n",
        "outputPath = './output'\n",
        "crearcarpeta(\"output\")\n",
        "\n",
        "def fmap(key, value, context):\n",
        "  datos = value.split()\n",
        "\n",
        "  context.write((key, datos[0]), \"\")\n",
        "\n",
        "def freduce(key,values,context):\n",
        "  for v in values:\n",
        "    context.write(key,\"\")\n",
        "    break\n",
        "\n",
        "job = Job(inputPath, outputPath, fmap, freduce)\n",
        "job.setCombiner(freduce) #EL COMBINER SI CONTRIBUYE => Solo transfiero un dato en vez de todos\n",
        "job.waitForCompletion()"
      ],
      "metadata": {
        "colab": {
          "base_uri": "https://localhost:8080/"
        },
        "outputId": "5184bb64-6c93-4215-bc95-29bfb1ac07a9",
        "collapsed": true,
        "id": "SD-QpsSkmESz"
      },
      "execution_count": null,
      "outputs": [
        {
          "output_type": "stream",
          "name": "stdout",
          "text": [
            "La carpeta \"output\" ya existe.\n"
          ]
        },
        {
          "output_type": "execute_result",
          "data": {
            "text/plain": [
              "True"
            ]
          },
          "metadata": {},
          "execution_count": 12
        }
      ]
    },
    {
      "cell_type": "code",
      "source": [
        "#Job 2: Contador de repetición de misión\n",
        "\n",
        "crearcarpeta(\"output2\")\n",
        "outputPath2 = './output2'\n",
        "\n",
        "inputPath = outputPath\n",
        "\n",
        "def fmap(key, value, context):\n",
        "  context.write(value, 1)\n",
        "\n",
        "def freduce(key,values,context):\n",
        "  cont = 0\n",
        "  for v in values:\n",
        "    cont+=v\n",
        "  context.write(key,cont)\n",
        "\n",
        "\n",
        "job = Job(inputPath, outputPath2, fmap, freduce)\n",
        "job.setCombiner(freduce) #EL COMBINER SI CONTRIBUYE => Contamos antes de trasnferir, por lo que trasferimos menos datos\n",
        "job.waitForCompletion()"
      ],
      "metadata": {
        "collapsed": true,
        "colab": {
          "base_uri": "https://localhost:8080/"
        },
        "outputId": "b2ce0166-9a39-4000-adec-58b169abf37c",
        "id": "sSejgo6GmES0"
      },
      "execution_count": null,
      "outputs": [
        {
          "output_type": "stream",
          "name": "stdout",
          "text": [
            "La carpeta \"output2\" ya existe.\n"
          ]
        },
        {
          "output_type": "execute_result",
          "data": {
            "text/plain": [
              "True"
            ]
          },
          "metadata": {},
          "execution_count": 13
        }
      ]
    },
    {
      "cell_type": "code",
      "source": [
        "#Job 3: Obtenemos la mision mas jugada\n",
        "\n",
        "crearcarpeta(\"output3\")\n",
        "outputPath3 = './output3'\n",
        "\n",
        "inputPath = outputPath2\n",
        "\n",
        "def fmap(key, value, context):\n",
        "  context.write(1,(key,value))\n",
        "\n",
        "def freduce(key,values,context):\n",
        " max=-1\n",
        " key= 0\n",
        " for v in values:\n",
        "  cant=int(v[1])\n",
        "  akey=v[0]\n",
        "  if(cant>int(max)):\n",
        "    max=cant\n",
        "    bkey=akey\n",
        " context.write(bkey,max)\n",
        "\n",
        "\n",
        "job = Job(inputPath, outputPath3, fmap, freduce)\n",
        "job.setCombiner(freduce) #EL COMBINER SI CONTRIBUYE => Obtenemos el max parcial y solo trasferimos ese\n",
        "job.waitForCompletion()"
      ],
      "metadata": {
        "collapsed": true,
        "colab": {
          "base_uri": "https://localhost:8080/"
        },
        "outputId": "9f84464d-98f0-4a6c-c8ca-c1276cb45725",
        "id": "qzeh3XQ4n3lA"
      },
      "execution_count": null,
      "outputs": [
        {
          "output_type": "stream",
          "name": "stdout",
          "text": [
            "La carpeta \"output3\" ya existe.\n"
          ]
        },
        {
          "output_type": "execute_result",
          "data": {
            "text/plain": [
              "True"
            ]
          },
          "metadata": {},
          "execution_count": 14
        }
      ]
    },
    {
      "cell_type": "code",
      "source": [
        "#Job 4: Jugadores con más de N partidas en la misión y puntaje acumulado mayor a P\n",
        "\n",
        "crearcarpeta(\"output4\")\n",
        "outputPath4 = './output4'\n",
        "\n",
        "N = 1\n",
        "P = 5000\n",
        "\n",
        "with open('output3/output.txt', 'r', encoding='utf-8') as f:\n",
        "  for linea in f:\n",
        "    elems = linea.strip().split()\n",
        "    mision_con_max_cantidad = int(elems[0])\n",
        "print(mision_con_max_cantidad)\n",
        "\n",
        "inputPath = GENERALinputPath\n",
        "\n",
        "def fmap(key, value, context):\n",
        "  datos = value.split()\n",
        "  if (int(datos[0]) == context[\"mision_con_max_cantidad\"]):\n",
        "    context.write(key, (1, int(datos[6])))\n",
        "\n",
        "def freduce(key,values,context):\n",
        "  cont = 0\n",
        "  puntaje_acum = 0\n",
        "  for v in values:\n",
        "    cont+=v[0]\n",
        "    puntaje_acum+=v[1]\n",
        "  if (cont > context[\"N\"] and puntaje_acum > context[\"P\"]):\n",
        "    context.write(key, (cont, puntaje_acum))\n",
        "\n",
        "def fcombiner(key,values,context):\n",
        "  cont = 0\n",
        "  puntaje_acum = 0\n",
        "  for v in values:\n",
        "    cont+=v[0]\n",
        "    puntaje_acum+=v[1]\n",
        "  context.write(key, (cont, puntaje_acum))\n",
        "\n",
        "job = Job(inputPath, outputPath4, fmap, freduce)\n",
        "\n",
        "params = {\"mision_con_max_cantidad\": mision_con_max_cantidad,\n",
        "          \"N\": N,\n",
        "          \"P\": P}\n",
        "job.setParams(params)\n",
        "job.setCombiner(fcombiner) #EL COMBINER SI CONTRIBUYE => Obtenemos el max parcial y solo trasferimos ese\n",
        "\n",
        "job.waitForCompletion()"
      ],
      "metadata": {
        "collapsed": true,
        "colab": {
          "base_uri": "https://localhost:8080/"
        },
        "outputId": "c95d9b89-a1cd-4d8f-b378-b6dc56553ac6",
        "id": "c_h-J7k-n4Bg"
      },
      "execution_count": null,
      "outputs": [
        {
          "output_type": "stream",
          "name": "stdout",
          "text": [
            "Carpeta \"output4\" creada con éxito.\n",
            "5\n"
          ]
        },
        {
          "output_type": "execute_result",
          "data": {
            "text/plain": [
              "True"
            ]
          },
          "metadata": {},
          "execution_count": 15
        }
      ]
    }
  ],
  "metadata": {
    "colab": {
      "provenance": [],
      "collapsed_sections": [
        "UV9yP_CmG8Rl",
        "aM6830eanUzl",
        "Rn_B-2_iQy_H",
        "5Fp1UtixdghI",
        "gjw6_H0vl1EO",
        "JtNnX6XzmESu"
      ],
      "include_colab_link": true
    },
    "kernelspec": {
      "display_name": "Python 3",
      "name": "python3"
    },
    "language_info": {
      "codemirror_mode": {
        "name": "ipython",
        "version": 3
      },
      "file_extension": ".py",
      "mimetype": "text/x-python",
      "name": "python",
      "nbconvert_exporter": "python",
      "pygments_lexer": "ipython3",
      "version": "3.9.12"
    }
  },
  "nbformat": 4,
  "nbformat_minor": 0
}
