{
  "cells": [
    {
      "cell_type": "markdown",
      "metadata": {
        "id": "view-in-github",
        "colab_type": "text"
      },
      "source": [
        "<a href=\"https://colab.research.google.com/github/nadienuncanada/BigData/blob/main/BigData_TP2_Spark.ipynb\" target=\"_parent\"><img src=\"https://colab.research.google.com/assets/colab-badge.svg\" alt=\"Open In Colab\"/></a>"
      ]
    },
    {
      "cell_type": "markdown",
      "source": [
        "\n",
        "# BigData 2024 - Spark"
      ],
      "metadata": {
        "id": "SkWCS4qlwcqr"
      }
    },
    {
      "cell_type": "markdown",
      "source": [
        "## Inicializacion"
      ],
      "metadata": {
        "id": "UV9yP_CmG8Rl"
      }
    },
    {
      "cell_type": "code",
      "source": [
        "from google.colab import drive\n",
        "drive.mount('/content/drive')\n",
        "ruta = '/content/drive/MyDrive/BigData'\n",
        "GENERALinputPath= ruta + '/input'\n",
        "ruta_heroes = GENERALinputPath + '/Heroes/Heroes.txt'\n",
        "\n",
        "# Instalamos Spark para Python\n",
        "!pip install pyspark\n",
        "\n",
        "import os\n",
        "\n",
        "# Instalamos Java SDK 8\n",
        "!apt-get install -y openjdk-8-jdk -qq > /dev/null\n",
        "!echo $(/usr/libexec/java_home -v 1.8)\n",
        "\n",
        "#set environment variable\n",
        "os.environ[\"JAVA_HOME\"] = \"/usr/lib/jvm/java-8-openjdk-amd64\"\n",
        "!echo 2 | update-alternatives --config java\n",
        "\n",
        "from pyspark import SparkContext\n",
        "from pyspark.sql import SQLContext, Row\n",
        "sc = SparkContext(\"local\", \"My program\")\n",
        "sqlContext = SQLContext(sc)"
      ],
      "metadata": {
        "id": "-FZodmOqxGeJ"
      },
      "execution_count": null,
      "outputs": []
    },
    {
      "cell_type": "markdown",
      "source": [
        "### Datos del enunciado"
      ],
      "metadata": {
        "id": "aM6830eanUzl"
      }
    },
    {
      "cell_type": "markdown",
      "source": [
        "\n",
        "**Pautas generales**\n",
        "\n",
        "• La entrega consiste en la implementación de un script con Spark, resolviendo todas las consignas presentes en este enunciado. Se deberá entregar el código fuente implementado y un documento con la comparación solicitada.\n",
        "\n",
        "• Los alumnos pueden conformar grupo de no más de dos integrantes y hacer una única\n",
        "entrega grupal.\n",
        "\n",
        "• La entrega se realiza por la mensajería del curso en IDEAS.\n",
        "\n",
        "• La fecha límite de entrega es el 25 de noviembre de 2024.\n",
        "\n",
        "**Aclaración**\n",
        "\n",
        "Suponga que la cantidad de jugadores, de misiones y de héroes es Big Data.\n",
        "En cada job planteado en la solución piense si una función combiner contribuye o no para la\n",
        "optimización del job. En caso de contribuir implemente dicha función\n",
        "\n",
        "**Enunciado**\n",
        "\n",
        "Una empresa ha desarrollado un videojuego online donde millones de jugadores se conectan a\n",
        "diario para realizar diferentes misiones. Cada jugador elije una misión en la cual participar y de\n",
        "su participación obtiene un puntaje y el tiempo en segundo que duró la misión. El jugador para\n",
        "participar de una misión debe elegir cinco héroes de un conjunto de héroes disponibles. Por\n",
        "cada participación, los servidores del juego almacenan la siguiente información:\n",
        "\n",
        "\n",
        "• ID_Jugador\n",
        "\n",
        "• ID_Misión\n",
        "\n",
        "• ID_Héroe_1\n",
        "\n",
        "• ID_Héroe_2\n",
        "\n",
        "• ID_Héroe_3\n",
        "\n",
        "• ID_Héroe_4\n",
        "\n",
        "• ID_Héroe_5\n",
        "\n",
        "• Puntaje obtenido\n",
        "\n",
        "• Tiempo de la misión en segundos\n",
        "\n",
        "Donde los cinco ID de los héroes son IDs de un conjunto de héroes que el jugador tiene para\n",
        "elegir y no guardan relación alguna entre ellos.\n",
        "Todos los jugadores pueden participar en la misión que deseen cuántas veces deseen y por cada\n",
        "misión obtienen un puntaje y también se registra el tiempo que duró la misión. Un jugador\n",
        "puede jugar todas las veces que quiera.\n",
        "Cada vez que un jugador decide jugar una misión, debe elegir cinco héroes, los cuales pueden\n",
        "ser totalmente distintos de una partida a la siguiente, aún jugando en la misma misión.\n",
        "Por ejemplo, el jugador con ID 231 juega a la misión 492 con los héroes 42, 901, 72, 831 y 4.\n",
        "Luego el mismo jugador puede jugar a la misma misión con otros héroes o los mismos, o repetir\n",
        "solo algunos de ellos.\n",
        "\n",
        "Semanalmente los administradores del juego quieren obtener algunas estadísticas para\n",
        "regalarle premios a los mejores jugadores y hacer mejoras al juego según la preferencia de los\n",
        "jugadores.\n",
        "\n",
        "\n",
        "Basado en el problema y dataset presentados en el TP1, implemente una solución en Spark a las\n",
        "siguientes consignas:\n",
        "\n",
        "**1) La misión más jugada (independientemente de la cantidad de jugadores que la jugaron, ni cuántas veces la jugó cada uno).**\n",
        "\n",
        "**2) El héroe más elegido en cada una de las misiones (el primer puesto podría ser\n",
        "compartido por más de un héroe, de hecho, todos los héroes podrían haber participado de la misión la misma cantidad de veces).**\n",
        "\n",
        "**3) Todos los jugadores que usaron más de H héroes distintos (H es un parámetro de la consulta).**\n",
        "\n",
        "**4) Todos los jugadores que participaron al menos N veces de la misión más jugada y el puntaje total del jugador en esa misión sea mayor a P. La misión más jugada es aquella en la que participaron más jugadores distintos, aunque sea una vez (N y P son parámetros de la consulta). Suponga que la misión más jugada es única (no hay empate en el primer puesto).**\n",
        "\n",
        "**5) Calcular para cada héroe su índice P. Un héroe tiene índice P si al menos P jugadores distintos lo eligieron para jugar P misiones distintas.**\n",
        "Ejemplos:\n",
        "\n",
        "Un héroe fue elegido para jugar 4 misiones distintas, al héroe lo eligieron 4 jugadores distintos. Su índice P es 4.\n",
        "\n",
        "Un héroe fue elegido para jugar 3 misiones distintas, pero lo eligieron 7 jugadores distintos. Su índice P es 3.\n",
        "\n",
        "Un héroe fue elegido para jugar 5 misiones distintas, pero lo eligieron 2 jugadores distintos. Su índice P es 2.\n",
        "\n",
        "Con lo cual, el índice P de un héroe puede calcularse como MIN(Mh, Jh), dónde Mh es la cantidad de misiones distintas en que el héroe fue elegido (no importa por que jugadores) y Jh es la cantidad de jugadores que eligieron al héroe (no importa en cuántas misiones)."
      ],
      "metadata": {
        "id": "EGI8TnWunMyo"
      }
    },
    {
      "cell_type": "code",
      "source": [
        "heroesTXT = sc.textFile(ruta_heroes)\n",
        "\n",
        "heroes = heroesTXT.map(lambda t : t.split(\"\\t\")) \\\n",
        "                    .map(lambda t: Row( id_jugador = int(t[0]),\n",
        "                        id_mision = int(t[1]),\n",
        "                        id_heroe_1 = int(t[2]),\n",
        "                        id_heroe_2 = int(t[3]),\n",
        "                        id_heroe_3 = int(t[4]),\n",
        "                        id_heroe_4 = int(t[5]),\n",
        "                        id_heroe_5 = int(t[6]),\n",
        "                        puntaje = int(t[7]) ,\n",
        "                        tiempo = int(t[8])\n",
        "                  ) )\n",
        "\n",
        "heroesDF = sqlContext.createDataFrame(heroes)\n",
        "heroesDF.registerTempTable(\"Heroe\")\n",
        "\n",
        "flat_heroes = heroesTXT.map(lambda t : t.split(\"\\t\")) \\\n",
        "                  .flatMap(lambda t: [(int(t[0]), int(t[1]), int(hero), int(t[7]), int(t[8]))\n",
        "                                      for hero in [int(t[2]), int(t[3]), int(t[4]), int(t[5]), int(t[6])]]) \\\n",
        "                    .map(lambda t: Row( id_jugador = int(t[0]),\n",
        "                        id_mision = int(t[1]),\n",
        "                        id_heroe = int(t[2]),\n",
        "                        puntaje = int(t[3]) ,\n",
        "                        tiempo = int(t[4])\n",
        "                  ) )\n",
        "\n",
        "flat_heroesDF = sqlContext.createDataFrame(flat_heroes)\n",
        "flat_heroesDF.registerTempTable(\"FlatHeroe\")\n"
      ],
      "metadata": {
        "colab": {
          "base_uri": "https://localhost:8080/"
        },
        "id": "dnIhJF4Xrfuu",
        "outputId": "c55ca7e7-a0d1-47ec-92c2-60ee8b1ebdcb"
      },
      "execution_count": null,
      "outputs": [
        {
          "output_type": "stream",
          "name": "stderr",
          "text": [
            "/usr/local/lib/python3.10/dist-packages/pyspark/sql/dataframe.py:329: FutureWarning: Deprecated in 2.0, use createOrReplaceTempView instead.\n",
            "  warnings.warn(\"Deprecated in 2.0, use createOrReplaceTempView instead.\", FutureWarning)\n"
          ]
        }
      ]
    },
    {
      "cell_type": "markdown",
      "source": [
        "### EJ1\n",
        "La misión más jugada (independientemente de la cantidad de jugadores que la jugaron,\n",
        "ni cuántas veces la jugó cada uno)."
      ],
      "metadata": {
        "id": "Rn_B-2_iQy_H"
      }
    },
    {
      "cell_type": "code",
      "source": [
        "result = sqlContext.sql(\n",
        "    \"SELECT id_mision, count(*) as total_jugadas \\\n",
        "     FROM Heroe \\\n",
        "     GROUP BY id_mision \\\n",
        "     ORDER BY total_jugadas desc\"\n",
        ")\n",
        "result.first()"
      ],
      "metadata": {
        "collapsed": true,
        "id": "JPx0uyJ7Qy_H"
      },
      "execution_count": null,
      "outputs": []
    },
    {
      "cell_type": "markdown",
      "source": [
        "### EJ2\n",
        "El héroe más elegido en cada una de las misiones (el primer puesto podría ser compartido por más de un héroe, de hecho, todos los héroes podrían haber participado de la misión la misma cantidad de veces)."
      ],
      "metadata": {
        "id": "bOdPMVW4swYY"
      }
    },
    {
      "cell_type": "code",
      "source": [
        "cantidad_repeticiones_heroe_por_mision = sqlContext.sql(\n",
        "    \"SELECT id_mision, id_heroe, count(*) as cantidad_repeticiones  \\\n",
        "     FROM FlatHeroe \\\n",
        "     GROUP BY id_mision, id_heroe \"\n",
        ")\n",
        "\n",
        "cantidad_repeticiones_heroe_por_mision.registerTempTable(\"CantRepeticionHeroePorMision\")\n",
        "\n",
        "max_heroe_por_mision = sqlContext.sql(\n",
        "    \"SELECT a.id_mision, a.id_heroe, a.cantidad_repeticiones \\\n",
        "     FROM CantRepeticionHeroePorMision a \\\n",
        "     JOIN ( \\\n",
        "         SELECT id_mision, MAX(cantidad_repeticiones) as max_repeticiones \\\n",
        "         FROM CantRepeticionHeroePorMision \\\n",
        "         GROUP BY id_mision \\\n",
        "     ) b ON a.id_mision = b.id_mision AND a.cantidad_repeticiones = b.max_repeticiones \\\n",
        "     ORDER BY a.id_mision asc, a.id_heroe asc\"\n",
        ")\n",
        "\n",
        "max_heroe_por_mision.collect()"
      ],
      "metadata": {
        "collapsed": true,
        "id": "3-IjAomuswYZ"
      },
      "execution_count": null,
      "outputs": []
    },
    {
      "cell_type": "markdown",
      "source": [
        "### EJ3\n",
        "Todos los jugadores que usaron más de H héroes distintos (H es un parámetro de la consulta)."
      ],
      "metadata": {
        "id": "N9yx83AV00Yl"
      }
    },
    {
      "cell_type": "code",
      "source": [
        "H = 20\n",
        "\n",
        "result = sqlContext.sql(\n",
        "    f\"SELECT id_jugador, count(distinct(id_heroe)) as cantidad_heroes \\\n",
        "     FROM FlatHeroe \\\n",
        "     GROUP BY id_jugador \\\n",
        "     HAVING cantidad_heroes > {H} \"\n",
        ")\n",
        "\n",
        "result.collect()"
      ],
      "metadata": {
        "id": "HJL_xZoS1XH9"
      },
      "execution_count": null,
      "outputs": []
    },
    {
      "cell_type": "markdown",
      "source": [
        "### EJ4\n",
        "Todos los jugadores que participaron al menos N veces de la misión más jugada y el puntaje total del jugador en esa misión sea mayor a P. La misión más jugada es aquella en la que participaron más jugadores distintos, aunque sea una vez (N y P son parámetros de la consulta). Suponga que la misión más jugada es única (no hay empate en el primer puesto)."
      ],
      "metadata": {
        "id": "ByOQTDIT2gJ_"
      }
    },
    {
      "cell_type": "code",
      "source": [
        "H = 20\n",
        "\n",
        "result = sqlContext.sql(\n",
        "    f\"SELECT id_mision, count(distinct(id_jugador)) as cantidad_jugadores \\\n",
        "     FROM Heroe \\\n",
        "     GROUP BY id_mision \\\n",
        "     ORDER BY cantidad_jugadores desc, id_mision asc\"\n",
        ")\n",
        "\n",
        "mision_mas_jugada = result.first()\n",
        "\n",
        "print(mision_mas_jugada)"
      ],
      "metadata": {
        "id": "_RXJaa1y2lsc"
      },
      "execution_count": null,
      "outputs": []
    },
    {
      "cell_type": "code",
      "source": [
        "N = 1\n",
        "P = 5000\n",
        "mision_mas_jugada_id = mision_mas_jugada.id_mision\n",
        "\n",
        "result = sqlContext.sql(\n",
        "    f\"SELECT id_jugador, count(*) as cantidad_jugadas, sum(puntaje) as puntaje_total \\\n",
        "     FROM Heroe \\\n",
        "     WHERE id_mision = {mision_mas_jugada_id} \\\n",
        "     GROUP BY id_jugador \\\n",
        "     HAVING cantidad_jugadas >= {N} AND puntaje_total > {P} \\\n",
        "     ORDER BY id_jugador\"\n",
        ")\n",
        "\n",
        "res = result.collect()\n",
        "res"
      ],
      "metadata": {
        "id": "kQMANy3K30Ei"
      },
      "execution_count": null,
      "outputs": []
    },
    {
      "cell_type": "markdown",
      "source": [
        "### EJ5\n",
        "Calcular para cada héroe su índice P. Un héroe tiene índice P si al menos P jugadores distintos lo eligieron para jugar P misiones distintas. Ejemplos:\n",
        "\n",
        "Un héroe fue elegido para jugar 4 misiones distintas, al héroe lo eligieron 4 jugadores distintos. Su índice P es 4.\n",
        "\n",
        "Un héroe fue elegido para jugar 3 misiones distintas, pero lo eligieron 7 jugadores distintos. Su índice P es 3.\n",
        "\n",
        "Un héroe fue elegido para jugar 5 misiones distintas, pero lo eligieron 2 jugadores distintos. Su índice P es 2.\n",
        "\n",
        "Con lo cual, el índice P de un héroe puede calcularse como MIN(Mh, Jh), dónde Mh es la cantidad de misiones distintas en que el héroe fue elegido (no importa por que jugadores) y Jh es la cantidad de jugadores que eligieron al héroe (no importa en cuántas misiones)."
      ],
      "metadata": {
        "id": "wGDTx97T5K0v"
      }
    },
    {
      "cell_type": "code",
      "source": [
        "cantidad_misiones = sqlContext.sql(\n",
        "    f\"SELECT id_heroe, count(distinct(id_mision)) as cantidad_misiones \\\n",
        "     FROM FlatHeroe \\\n",
        "     GROUP BY id_heroe \"\n",
        ")\n",
        "cantidad_jugadores = sqlContext.sql(\n",
        "    f\"SELECT id_heroe, count(distinct(id_jugador)) as cantidad_jugadores \\\n",
        "     FROM FlatHeroe \\\n",
        "     GROUP BY id_heroe \"\n",
        ")\n",
        "cantidad_misiones.registerTempTable(\"HeroeCantMisiones\")\n",
        "cantidad_jugadores.registerTempTable(\"HeroeCantJugaores\")\n",
        "\n",
        "\n",
        "result = sqlContext.sql(\n",
        "    f\"SELECT jh.id_heroe, LEAST(cantidad_misiones, cantidad_jugadores) as P \\\n",
        "     FROM HeroeCantMisiones as mh inner join HeroeCantJugaores as jh on mh.id_heroe = jh.id_heroe \\\n",
        "     ORDER BY id_heroe asc\"\n",
        ")\n",
        "\n",
        "result.collect()"
      ],
      "metadata": {
        "id": "6Yyg7q0X5Td4"
      },
      "execution_count": null,
      "outputs": []
    }
  ],
  "metadata": {
    "colab": {
      "provenance": [],
      "include_colab_link": true
    },
    "kernelspec": {
      "display_name": "Python 3",
      "name": "python3"
    },
    "language_info": {
      "codemirror_mode": {
        "name": "ipython",
        "version": 3
      },
      "file_extension": ".py",
      "mimetype": "text/x-python",
      "name": "python",
      "nbconvert_exporter": "python",
      "pygments_lexer": "ipython3",
      "version": "3.9.12"
    }
  },
  "nbformat": 4,
  "nbformat_minor": 0
}